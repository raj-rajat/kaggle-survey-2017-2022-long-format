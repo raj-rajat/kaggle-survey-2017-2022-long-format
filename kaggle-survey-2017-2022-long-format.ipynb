{
 "cells": [
  {
   "cell_type": "code",
   "execution_count": 1,
   "id": "d6cdd406",
   "metadata": {
    "_cell_guid": "b1076dfc-b9ad-4769-8c92-a6c4dae69d19",
    "_uuid": "8f2839f25d086af736a60e9eeb907d3b93b6e0e5",
    "execution": {
     "iopub.execute_input": "2023-07-30T19:44:28.234966Z",
     "iopub.status.busy": "2023-07-30T19:44:28.234508Z",
     "iopub.status.idle": "2023-07-30T19:44:28.251494Z",
     "shell.execute_reply": "2023-07-30T19:44:28.250331Z"
    },
    "papermill": {
     "duration": 0.023227,
     "end_time": "2023-07-30T19:44:28.253926",
     "exception": false,
     "start_time": "2023-07-30T19:44:28.230699",
     "status": "completed"
    },
    "tags": []
   },
   "outputs": [
    {
     "name": "stdout",
     "output_type": "stream",
     "text": [
      "/kaggle/input/kaggle-survey-2017-2022-long-format/kaggle_survey_answer_2017_2022.csv\n",
      "/kaggle/input/kaggle-survey-2017-2022-long-format/kaggle_survey_question_2017_2022.csv\n",
      "/kaggle/input/kaggle-survey-2017-2022-long-format/kaggle_survey_choice_2017_2022.csv\n"
     ]
    }
   ],
   "source": [
    "# This Python 3 environment comes with many helpful analytics libraries installed\n",
    "# It is defined by the kaggle/python Docker image: https://github.com/kaggle/docker-python\n",
    "# For example, here's several helpful packages to load\n",
    "\n",
    "import numpy as np # linear algebra\n",
    "import pandas as pd # data processing, CSV file I/O (e.g. pd.read_csv)\n",
    "\n",
    "# Input data files are available in the read-only \"../input/\" directory\n",
    "# For example, running this (by clicking run or pressing Shift+Enter) will list all files under the input directory\n",
    "\n",
    "import os\n",
    "for dirname, _, filenames in os.walk('/kaggle/input'):\n",
    "    for filename in filenames:\n",
    "        print(os.path.join(dirname, filename))\n",
    "\n",
    "# You can write up to 20GB to the current directory (/kaggle/working/) that gets preserved as output when you create a version using \"Save & Run All\" \n",
    "# You can also write temporary files to /kaggle/temp/, but they won't be saved outside of the current session"
   ]
  },
  {
   "cell_type": "code",
   "execution_count": 2,
   "id": "92cfce33",
   "metadata": {
    "execution": {
     "iopub.execute_input": "2023-07-30T19:44:28.259700Z",
     "iopub.status.busy": "2023-07-30T19:44:28.259350Z",
     "iopub.status.idle": "2023-07-30T19:44:39.095247Z",
     "shell.execute_reply": "2023-07-30T19:44:39.093760Z"
    },
    "papermill": {
     "duration": 10.841536,
     "end_time": "2023-07-30T19:44:39.097677",
     "exception": false,
     "start_time": "2023-07-30T19:44:28.256141",
     "status": "completed"
    },
    "tags": []
   },
   "outputs": [
    {
     "name": "stderr",
     "output_type": "stream",
     "text": [
      "/tmp/ipykernel_20/3341324518.py:5: DtypeWarning: Columns (0) have mixed types. Specify dtype option on import or set low_memory=False.\n",
      "  df_answer = pd.read_csv('/kaggle/input/kaggle-survey-2017-2022-long-format/kaggle_survey_answer_2017_2022.csv')\n",
      "/tmp/ipykernel_20/3341324518.py:6: DtypeWarning: Columns (0) have mixed types. Specify dtype option on import or set low_memory=False.\n",
      "  df_choice = pd.read_csv('/kaggle/input/kaggle-survey-2017-2022-long-format/kaggle_survey_answer_2017_2022.csv')\n"
     ]
    },
    {
     "data": {
      "text/plain": [
       "(   Unnamed: 0 question_id  survey_year  question_number  \\\n",
       " 0           0      2022Q1         2022                1   \n",
       " 1           1      2022Q2         2022                2   \n",
       " 2           2      2022Q3         2022                3   \n",
       " 3           3      2022Q4         2022                4   \n",
       " 4           4      2022Q5         2022                5   \n",
       " \n",
       "                                     question_content  \n",
       " 0                              Duration (in seconds)  \n",
       " 1                        What is your age (# years)?  \n",
       " 2             What is your gender? - Selected Choice  \n",
       " 3          In which country do you currently reside?  \n",
       " 4  Are you currently a student? (high school, uni...  ,\n",
       "   Unnamed: 0    year    anwser_id  answer_time_spent  question_number  \\\n",
       " 0          0  2022.0  2022A000001              121.0              1.0   \n",
       " 1          1  2022.0  2022A000002              462.0              1.0   \n",
       " 2          2  2022.0  2022A000003              293.0              1.0   \n",
       " 3          3  2022.0  2022A000004              851.0              1.0   \n",
       " 4          4  2022.0  2022A000005              232.0              1.0   \n",
       " \n",
       "   choice_content  \n",
       " 0            121  \n",
       " 1            462  \n",
       " 2            293  \n",
       " 3            851  \n",
       " 4            232  ,\n",
       "   Unnamed: 0    year    anwser_id  answer_time_spent  question_number  \\\n",
       " 0          0  2022.0  2022A000001              121.0              1.0   \n",
       " 1          1  2022.0  2022A000002              462.0              1.0   \n",
       " 2          2  2022.0  2022A000003              293.0              1.0   \n",
       " 3          3  2022.0  2022A000004              851.0              1.0   \n",
       " 4          4  2022.0  2022A000005              232.0              1.0   \n",
       " \n",
       "   choice_content  \n",
       " 0            121  \n",
       " 1            462  \n",
       " 2            293  \n",
       " 3            851  \n",
       " 4            232  )"
      ]
     },
     "execution_count": 2,
     "metadata": {},
     "output_type": "execute_result"
    }
   ],
   "source": [
    "import pandas as pd\n",
    "\n",
    "# Load data into pandas dataframes\n",
    "df_question = pd.read_csv('/kaggle/input/kaggle-survey-2017-2022-long-format/kaggle_survey_question_2017_2022.csv')\n",
    "df_answer = pd.read_csv('/kaggle/input/kaggle-survey-2017-2022-long-format/kaggle_survey_answer_2017_2022.csv')\n",
    "df_choice = pd.read_csv('/kaggle/input/kaggle-survey-2017-2022-long-format/kaggle_survey_answer_2017_2022.csv')\n",
    "\n",
    "# Display the first few rows of each dataframe\n",
    "df_question.head(), df_answer.head(), df_choice.head()\n"
   ]
  },
  {
   "cell_type": "code",
   "execution_count": 3,
   "id": "40eaa342",
   "metadata": {
    "execution": {
     "iopub.execute_input": "2023-07-30T19:44:39.104828Z",
     "iopub.status.busy": "2023-07-30T19:44:39.103647Z",
     "iopub.status.idle": "2023-07-30T19:44:39.120569Z",
     "shell.execute_reply": "2023-07-30T19:44:39.119724Z"
    },
    "papermill": {
     "duration": 0.022091,
     "end_time": "2023-07-30T19:44:39.122301",
     "exception": false,
     "start_time": "2023-07-30T19:44:39.100210",
     "status": "completed"
    },
    "tags": []
   },
   "outputs": [
    {
     "name": "stdout",
     "output_type": "stream",
     "text": [
      "Error occurred: name 'question_file_path' is not defined\n"
     ]
    },
    {
     "data": {
      "text/plain": [
       "(   Unnamed: 0 question_id  survey_year  question_number  \\\n",
       " 0           0      2022Q1         2022                1   \n",
       " 1           1      2022Q2         2022                2   \n",
       " 2           2      2022Q3         2022                3   \n",
       " 3           3      2022Q4         2022                4   \n",
       " 4           4      2022Q5         2022                5   \n",
       " \n",
       "                                     question_content  \n",
       " 0                              Duration (in seconds)  \n",
       " 1                        What is your age (# years)?  \n",
       " 2             What is your gender? - Selected Choice  \n",
       " 3          In which country do you currently reside?  \n",
       " 4  Are you currently a student? (high school, uni...  ,\n",
       "   Unnamed: 0    year    anwser_id  answer_time_spent  question_number  \\\n",
       " 0          0  2022.0  2022A000001              121.0              1.0   \n",
       " 1          1  2022.0  2022A000002              462.0              1.0   \n",
       " 2          2  2022.0  2022A000003              293.0              1.0   \n",
       " 3          3  2022.0  2022A000004              851.0              1.0   \n",
       " 4          4  2022.0  2022A000005              232.0              1.0   \n",
       " \n",
       "   choice_content  \n",
       " 0            121  \n",
       " 1            462  \n",
       " 2            293  \n",
       " 3            851  \n",
       " 4            232  ,\n",
       "   Unnamed: 0    year    anwser_id  answer_time_spent  question_number  \\\n",
       " 0          0  2022.0  2022A000001              121.0              1.0   \n",
       " 1          1  2022.0  2022A000002              462.0              1.0   \n",
       " 2          2  2022.0  2022A000003              293.0              1.0   \n",
       " 3          3  2022.0  2022A000004              851.0              1.0   \n",
       " 4          4  2022.0  2022A000005              232.0              1.0   \n",
       " \n",
       "   choice_content  \n",
       " 0            121  \n",
       " 1            462  \n",
       " 2            293  \n",
       " 3            851  \n",
       " 4            232  )"
      ]
     },
     "execution_count": 3,
     "metadata": {},
     "output_type": "execute_result"
    }
   ],
   "source": [
    "# Try to load data again with modifications\n",
    "try:\n",
    "    df_question = pd.read_csv(question_file_path, dtype=str)\n",
    "    df_answer = pd.read_csv(answer_file_path, dtype=str)\n",
    "    df_choice = pd.read_csv(choice_file_path, dtype=str, error_bad_lines=False)\n",
    "    print(\"Data loaded successfully.\")\n",
    "except Exception as e:\n",
    "    print(\"Error occurred:\", e)\n",
    "\n",
    "# Display the first few rows of each dataframe\n",
    "df_question.head(), df_answer.head(), df_choice.head()\n"
   ]
  },
  {
   "cell_type": "code",
   "execution_count": null,
   "id": "c8fce519",
   "metadata": {
    "papermill": {
     "duration": 0.001976,
     "end_time": "2023-07-30T19:44:39.126658",
     "exception": false,
     "start_time": "2023-07-30T19:44:39.124682",
     "status": "completed"
    },
    "tags": []
   },
   "outputs": [],
   "source": []
  },
  {
   "cell_type": "code",
   "execution_count": null,
   "id": "a6ee813b",
   "metadata": {
    "papermill": {
     "duration": 0.001878,
     "end_time": "2023-07-30T19:44:39.130735",
     "exception": false,
     "start_time": "2023-07-30T19:44:39.128857",
     "status": "completed"
    },
    "tags": []
   },
   "outputs": [],
   "source": []
  }
 ],
 "metadata": {
  "kernelspec": {
   "display_name": "Python 3",
   "language": "python",
   "name": "python3"
  },
  "language_info": {
   "codemirror_mode": {
    "name": "ipython",
    "version": 3
   },
   "file_extension": ".py",
   "mimetype": "text/x-python",
   "name": "python",
   "nbconvert_exporter": "python",
   "pygments_lexer": "ipython3",
   "version": "3.10.12"
  },
  "papermill": {
   "default_parameters": {},
   "duration": 19.920165,
   "end_time": "2023-07-30T19:44:40.155414",
   "environment_variables": {},
   "exception": null,
   "input_path": "__notebook__.ipynb",
   "output_path": "__notebook__.ipynb",
   "parameters": {},
   "start_time": "2023-07-30T19:44:20.235249",
   "version": "2.4.0"
  }
 },
 "nbformat": 4,
 "nbformat_minor": 5
}
