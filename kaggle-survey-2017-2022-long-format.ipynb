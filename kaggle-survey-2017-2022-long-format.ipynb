{
 "cells": [
  {
   "cell_type": "code",
   "execution_count": 1,
   "id": "3ccb1a1d",
   "metadata": {
    "_cell_guid": "b1076dfc-b9ad-4769-8c92-a6c4dae69d19",
    "_uuid": "8f2839f25d086af736a60e9eeb907d3b93b6e0e5",
    "execution": {
     "iopub.execute_input": "2023-07-30T21:19:53.642971Z",
     "iopub.status.busy": "2023-07-30T21:19:53.642094Z",
     "iopub.status.idle": "2023-07-30T21:19:53.661301Z",
     "shell.execute_reply": "2023-07-30T21:19:53.660184Z"
    },
    "papermill": {
     "duration": 0.026498,
     "end_time": "2023-07-30T21:19:53.663668",
     "exception": false,
     "start_time": "2023-07-30T21:19:53.637170",
     "status": "completed"
    },
    "tags": []
   },
   "outputs": [
    {
     "name": "stdout",
     "output_type": "stream",
     "text": [
      "/kaggle/input/kaggle-survey-2017-2022-long-format/kaggle_survey_answer_2017_2022.csv\n",
      "/kaggle/input/kaggle-survey-2017-2022-long-format/kaggle_survey_question_2017_2022.csv\n",
      "/kaggle/input/kaggle-survey-2017-2022-long-format/kaggle_survey_choice_2017_2022.csv\n"
     ]
    }
   ],
   "source": [
    "# This Python 3 environment comes with many helpful analytics libraries installed\n",
    "# It is defined by the kaggle/python Docker image: https://github.com/kaggle/docker-python\n",
    "# For example, here's several helpful packages to load\n",
    "\n",
    "import numpy as np # linear algebra\n",
    "import pandas as pd # data processing, CSV file I/O (e.g. pd.read_csv)\n",
    "\n",
    "# Input data files are available in the read-only \"../input/\" directory\n",
    "# For example, running this (by clicking run or pressing Shift+Enter) will list all files under the input directory\n",
    "\n",
    "import os\n",
    "for dirname, _, filenames in os.walk('/kaggle/input'):\n",
    "    for filename in filenames:\n",
    "        print(os.path.join(dirname, filename))\n",
    "\n",
    "# You can write up to 20GB to the current directory (/kaggle/working/) that gets preserved as output when you create a version using \"Save & Run All\" \n",
    "# You can also write temporary files to /kaggle/temp/, but they won't be saved outside of the current session"
   ]
  },
  {
   "cell_type": "code",
   "execution_count": 2,
   "id": "fe07b412",
   "metadata": {
    "execution": {
     "iopub.execute_input": "2023-07-30T21:19:53.670562Z",
     "iopub.status.busy": "2023-07-30T21:19:53.670198Z",
     "iopub.status.idle": "2023-07-30T21:19:53.707168Z",
     "shell.execute_reply": "2023-07-30T21:19:53.706081Z"
    },
    "papermill": {
     "duration": 0.043111,
     "end_time": "2023-07-30T21:19:53.709570",
     "exception": false,
     "start_time": "2023-07-30T21:19:53.666459",
     "status": "completed"
    },
    "tags": []
   },
   "outputs": [
    {
     "data": {
      "text/html": [
       "<div>\n",
       "<style scoped>\n",
       "    .dataframe tbody tr th:only-of-type {\n",
       "        vertical-align: middle;\n",
       "    }\n",
       "\n",
       "    .dataframe tbody tr th {\n",
       "        vertical-align: top;\n",
       "    }\n",
       "\n",
       "    .dataframe thead th {\n",
       "        text-align: right;\n",
       "    }\n",
       "</style>\n",
       "<table border=\"1\" class=\"dataframe\">\n",
       "  <thead>\n",
       "    <tr style=\"text-align: right;\">\n",
       "      <th></th>\n",
       "      <th>Unnamed: 0</th>\n",
       "      <th>question_id</th>\n",
       "      <th>survey_year</th>\n",
       "      <th>question_number</th>\n",
       "      <th>question_content</th>\n",
       "    </tr>\n",
       "  </thead>\n",
       "  <tbody>\n",
       "    <tr>\n",
       "      <th>0</th>\n",
       "      <td>0</td>\n",
       "      <td>2022Q1</td>\n",
       "      <td>2022</td>\n",
       "      <td>1</td>\n",
       "      <td>Duration (in seconds)</td>\n",
       "    </tr>\n",
       "    <tr>\n",
       "      <th>1</th>\n",
       "      <td>1</td>\n",
       "      <td>2022Q2</td>\n",
       "      <td>2022</td>\n",
       "      <td>2</td>\n",
       "      <td>What is your age (# years)?</td>\n",
       "    </tr>\n",
       "    <tr>\n",
       "      <th>2</th>\n",
       "      <td>2</td>\n",
       "      <td>2022Q3</td>\n",
       "      <td>2022</td>\n",
       "      <td>3</td>\n",
       "      <td>What is your gender? - Selected Choice</td>\n",
       "    </tr>\n",
       "    <tr>\n",
       "      <th>3</th>\n",
       "      <td>3</td>\n",
       "      <td>2022Q4</td>\n",
       "      <td>2022</td>\n",
       "      <td>4</td>\n",
       "      <td>In which country do you currently reside?</td>\n",
       "    </tr>\n",
       "    <tr>\n",
       "      <th>4</th>\n",
       "      <td>4</td>\n",
       "      <td>2022Q5</td>\n",
       "      <td>2022</td>\n",
       "      <td>5</td>\n",
       "      <td>Are you currently a student? (high school, uni...</td>\n",
       "    </tr>\n",
       "  </tbody>\n",
       "</table>\n",
       "</div>"
      ],
      "text/plain": [
       "   Unnamed: 0 question_id  survey_year  question_number  \\\n",
       "0           0      2022Q1         2022                1   \n",
       "1           1      2022Q2         2022                2   \n",
       "2           2      2022Q3         2022                3   \n",
       "3           3      2022Q4         2022                4   \n",
       "4           4      2022Q5         2022                5   \n",
       "\n",
       "                                    question_content  \n",
       "0                              Duration (in seconds)  \n",
       "1                        What is your age (# years)?  \n",
       "2             What is your gender? - Selected Choice  \n",
       "3          In which country do you currently reside?  \n",
       "4  Are you currently a student? (high school, uni...  "
      ]
     },
     "execution_count": 2,
     "metadata": {},
     "output_type": "execute_result"
    }
   ],
   "source": [
    "import pandas as pd\n",
    "\n",
    "# Define the path of the first CSV file\n",
    "csv_file_path_1 = os.path.join( '/kaggle/input/kaggle-survey-2017-2022-long-format/kaggle_survey_question_2017_2022.csv')\n",
    "\n",
    "# Load the CSV file into a DataFrame\n",
    "df_question = pd.read_csv(csv_file_path_1)\n",
    "\n",
    "# Display the first few rows of the DataFrame\n",
    "df_question.head()\n"
   ]
  },
  {
   "cell_type": "code",
   "execution_count": 3,
   "id": "c169aed3",
   "metadata": {
    "execution": {
     "iopub.execute_input": "2023-07-30T21:19:53.716720Z",
     "iopub.status.busy": "2023-07-30T21:19:53.716315Z",
     "iopub.status.idle": "2023-07-30T21:20:02.271524Z",
     "shell.execute_reply": "2023-07-30T21:20:02.270527Z"
    },
    "papermill": {
     "duration": 8.561326,
     "end_time": "2023-07-30T21:20:02.273778",
     "exception": false,
     "start_time": "2023-07-30T21:19:53.712452",
     "status": "completed"
    },
    "tags": []
   },
   "outputs": [
    {
     "name": "stderr",
     "output_type": "stream",
     "text": [
      "/tmp/ipykernel_21/2652125481.py:5: DtypeWarning: Columns (0) have mixed types. Specify dtype option on import or set low_memory=False.\n",
      "  df_answer = pd.read_csv(csv_file_path_2)\n"
     ]
    },
    {
     "data": {
      "text/html": [
       "<div>\n",
       "<style scoped>\n",
       "    .dataframe tbody tr th:only-of-type {\n",
       "        vertical-align: middle;\n",
       "    }\n",
       "\n",
       "    .dataframe tbody tr th {\n",
       "        vertical-align: top;\n",
       "    }\n",
       "\n",
       "    .dataframe thead th {\n",
       "        text-align: right;\n",
       "    }\n",
       "</style>\n",
       "<table border=\"1\" class=\"dataframe\">\n",
       "  <thead>\n",
       "    <tr style=\"text-align: right;\">\n",
       "      <th></th>\n",
       "      <th>Unnamed: 0</th>\n",
       "      <th>year</th>\n",
       "      <th>anwser_id</th>\n",
       "      <th>answer_time_spent</th>\n",
       "      <th>question_number</th>\n",
       "      <th>choice_content</th>\n",
       "    </tr>\n",
       "  </thead>\n",
       "  <tbody>\n",
       "    <tr>\n",
       "      <th>0</th>\n",
       "      <td>0</td>\n",
       "      <td>2022.0</td>\n",
       "      <td>2022A000001</td>\n",
       "      <td>121.0</td>\n",
       "      <td>1.0</td>\n",
       "      <td>121</td>\n",
       "    </tr>\n",
       "    <tr>\n",
       "      <th>1</th>\n",
       "      <td>1</td>\n",
       "      <td>2022.0</td>\n",
       "      <td>2022A000002</td>\n",
       "      <td>462.0</td>\n",
       "      <td>1.0</td>\n",
       "      <td>462</td>\n",
       "    </tr>\n",
       "    <tr>\n",
       "      <th>2</th>\n",
       "      <td>2</td>\n",
       "      <td>2022.0</td>\n",
       "      <td>2022A000003</td>\n",
       "      <td>293.0</td>\n",
       "      <td>1.0</td>\n",
       "      <td>293</td>\n",
       "    </tr>\n",
       "    <tr>\n",
       "      <th>3</th>\n",
       "      <td>3</td>\n",
       "      <td>2022.0</td>\n",
       "      <td>2022A000004</td>\n",
       "      <td>851.0</td>\n",
       "      <td>1.0</td>\n",
       "      <td>851</td>\n",
       "    </tr>\n",
       "    <tr>\n",
       "      <th>4</th>\n",
       "      <td>4</td>\n",
       "      <td>2022.0</td>\n",
       "      <td>2022A000005</td>\n",
       "      <td>232.0</td>\n",
       "      <td>1.0</td>\n",
       "      <td>232</td>\n",
       "    </tr>\n",
       "  </tbody>\n",
       "</table>\n",
       "</div>"
      ],
      "text/plain": [
       "  Unnamed: 0    year    anwser_id  answer_time_spent  question_number  \\\n",
       "0          0  2022.0  2022A000001              121.0              1.0   \n",
       "1          1  2022.0  2022A000002              462.0              1.0   \n",
       "2          2  2022.0  2022A000003              293.0              1.0   \n",
       "3          3  2022.0  2022A000004              851.0              1.0   \n",
       "4          4  2022.0  2022A000005              232.0              1.0   \n",
       "\n",
       "  choice_content  \n",
       "0            121  \n",
       "1            462  \n",
       "2            293  \n",
       "3            851  \n",
       "4            232  "
      ]
     },
     "execution_count": 3,
     "metadata": {},
     "output_type": "execute_result"
    }
   ],
   "source": [
    "# Define the path of the second CSV file\n",
    "csv_file_path_2 = os.path.join( '/kaggle/input/kaggle-survey-2017-2022-long-format/kaggle_survey_answer_2017_2022.csv')\n",
    "\n",
    "# Load the CSV file into a DataFrame\n",
    "df_answer = pd.read_csv(csv_file_path_2)\n",
    "\n",
    "# Display the first few rows of the DataFrame\n",
    "df_answer.head()\n"
   ]
  },
  {
   "cell_type": "code",
   "execution_count": 4,
   "id": "4d464242",
   "metadata": {
    "execution": {
     "iopub.execute_input": "2023-07-30T21:20:02.282800Z",
     "iopub.status.busy": "2023-07-30T21:20:02.281729Z",
     "iopub.status.idle": "2023-07-30T21:20:02.312532Z",
     "shell.execute_reply": "2023-07-30T21:20:02.311415Z"
    },
    "papermill": {
     "duration": 0.037498,
     "end_time": "2023-07-30T21:20:02.314847",
     "exception": false,
     "start_time": "2023-07-30T21:20:02.277349",
     "status": "completed"
    },
    "tags": []
   },
   "outputs": [
    {
     "name": "stdout",
     "output_type": "stream",
     "text": [
      "<class 'pandas.core.frame.DataFrame'>\n",
      "RangeIndex: 442 entries, 0 to 441\n",
      "Data columns (total 5 columns):\n",
      " #   Column            Non-Null Count  Dtype \n",
      "---  ------            --------------  ----- \n",
      " 0   Unnamed: 0        442 non-null    int64 \n",
      " 1   question_id       442 non-null    object\n",
      " 2   survey_year       442 non-null    int64 \n",
      " 3   question_number   442 non-null    int64 \n",
      " 4   question_content  442 non-null    object\n",
      "dtypes: int64(3), object(2)\n",
      "memory usage: 17.4+ KB\n"
     ]
    },
    {
     "data": {
      "text/plain": [
       "2017    233\n",
       "2018     50\n",
       "2019     34\n",
       "2020     39\n",
       "2021     42\n",
       "2022     44\n",
       "Name: survey_year, dtype: int64"
      ]
     },
     "execution_count": 4,
     "metadata": {},
     "output_type": "execute_result"
    }
   ],
   "source": [
    "# Get general information about the df_question DataFrame\n",
    "df_question.info()\n",
    "\n",
    "# Count the number of questions per survey year\n",
    "df_question['survey_year'].value_counts().sort_index()\n"
   ]
  },
  {
   "cell_type": "code",
   "execution_count": 5,
   "id": "81f500ac",
   "metadata": {
    "execution": {
     "iopub.execute_input": "2023-07-30T21:20:02.323382Z",
     "iopub.status.busy": "2023-07-30T21:20:02.322791Z",
     "iopub.status.idle": "2023-07-30T21:20:02.755841Z",
     "shell.execute_reply": "2023-07-30T21:20:02.754634Z"
    },
    "papermill": {
     "duration": 0.440064,
     "end_time": "2023-07-30T21:20:02.758207",
     "exception": false,
     "start_time": "2023-07-30T21:20:02.318143",
     "status": "completed"
    },
    "tags": []
   },
   "outputs": [
    {
     "name": "stdout",
     "output_type": "stream",
     "text": [
      "<class 'pandas.core.frame.DataFrame'>\n",
      "RangeIndex: 6405575 entries, 0 to 6405574\n",
      "Data columns (total 6 columns):\n",
      " #   Column             Dtype  \n",
      "---  ------             -----  \n",
      " 0   Unnamed: 0         object \n",
      " 1   year               float64\n",
      " 2   anwser_id          object \n",
      " 3   answer_time_spent  float64\n",
      " 4   question_number    float64\n",
      " 5   choice_content     object \n",
      "dtypes: float64(3), object(3)\n",
      "memory usage: 293.2+ MB\n"
     ]
    },
    {
     "data": {
      "text/plain": [
       "(2017.0    1033266\n",
       " 2018.0    1640907\n",
       " 2019.0     782291\n",
       " 2020.0     860859\n",
       " 2021.0    1229770\n",
       " 2022.0     858429\n",
       " Name: year, dtype: int64,\n",
       " count    5.372256e+06\n",
       " mean     1.125246e+04\n",
       " std      7.787352e+04\n",
       " min      1.600000e+01\n",
       " 25%      5.040000e+02\n",
       " 50%      7.900000e+02\n",
       " 75%      1.361000e+03\n",
       " max      2.533678e+06\n",
       " Name: answer_time_spent, dtype: float64)"
      ]
     },
     "execution_count": 5,
     "metadata": {},
     "output_type": "execute_result"
    }
   ],
   "source": [
    "# Get general information about the df_answer DataFrame\n",
    "df_answer.info()\n",
    "\n",
    "# Count the number of answers per year\n",
    "df_answer_year_counts = df_answer['year'].value_counts().sort_index()\n",
    "\n",
    "# Calculate the summary statistics for answer_time_spent\n",
    "df_answer_time_stats = df_answer['answer_time_spent'].describe()\n",
    "\n",
    "df_answer_year_counts, df_answer_time_stats\n"
   ]
  },
  {
   "cell_type": "code",
   "execution_count": null,
   "id": "351e7e7d",
   "metadata": {
    "papermill": {
     "duration": 0.003142,
     "end_time": "2023-07-30T21:20:02.764779",
     "exception": false,
     "start_time": "2023-07-30T21:20:02.761637",
     "status": "completed"
    },
    "tags": []
   },
   "outputs": [],
   "source": []
  },
  {
   "cell_type": "code",
   "execution_count": null,
   "id": "75f40f8b",
   "metadata": {
    "papermill": {
     "duration": 0.003026,
     "end_time": "2023-07-30T21:20:02.771112",
     "exception": false,
     "start_time": "2023-07-30T21:20:02.768086",
     "status": "completed"
    },
    "tags": []
   },
   "outputs": [],
   "source": []
  }
 ],
 "metadata": {
  "kernelspec": {
   "display_name": "Python 3",
   "language": "python",
   "name": "python3"
  },
  "language_info": {
   "codemirror_mode": {
    "name": "ipython",
    "version": 3
   },
   "file_extension": ".py",
   "mimetype": "text/x-python",
   "name": "python",
   "nbconvert_exporter": "python",
   "pygments_lexer": "ipython3",
   "version": "3.10.12"
  },
  "papermill": {
   "default_parameters": {},
   "duration": 19.589163,
   "end_time": "2023-07-30T21:20:03.797395",
   "environment_variables": {},
   "exception": null,
   "input_path": "__notebook__.ipynb",
   "output_path": "__notebook__.ipynb",
   "parameters": {},
   "start_time": "2023-07-30T21:19:44.208232",
   "version": "2.4.0"
  }
 },
 "nbformat": 4,
 "nbformat_minor": 5
}
